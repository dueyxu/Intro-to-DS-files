{
 "cells": [
  {
   "cell_type": "markdown",
   "metadata": {},
   "source": [
    "## Linear Regression Results\n",
    "\n",
    "**Duey Xu**"
   ]
  },
  {
   "cell_type": "markdown",
   "metadata": {},
   "source": [
    "This notebook contains some of the results we obtained during our NYC Real Estate Sale Price Predictor project. It features code for executing hyper-parameter tuned linear regression algorithms on our data."
   ]
  },
  {
   "cell_type": "code",
   "execution_count": 1,
   "metadata": {
    "id": "MSAQqEen9-_e"
   },
   "outputs": [],
   "source": [
    "# all imports\n",
    "import pandas as pd\n",
    "import numpy as np\n",
    "\n",
    "from sklearn.model_selection import train_test_split, GridSearchCV\n",
    "# TODO: import additional sklearn dependencies here\n",
    "\n",
    "import matplotlib.pyplot as plt\n",
    "%matplotlib inline\n",
    "from sklearn.model_selection import train_test_split\n",
    "\n",
    "# notebook settings\n",
    "from IPython.display import display\n",
    "pd.options.display.max_columns = None\n",
    "\n",
    "# Annoying damn warnings\n",
    "import warnings\n",
    "warnings.filterwarnings('ignore')\n",
    "\n",
    "from scipy.stats import loguniform\n",
    "from sklearn.linear_model import LinearRegression\n",
    "from sklearn.linear_model import Ridge\n",
    "from sklearn.linear_model import RidgeCV\n",
    "from sklearn.linear_model import Lasso\n",
    "from sklearn.linear_model import ElasticNet\n",
    "from sklearn.preprocessing import StandardScaler\n",
    "from sklearn.tree import DecisionTreeRegressor"
   ]
  },
  {
   "cell_type": "code",
   "execution_count": null,
   "metadata": {
    "id": "t5hGNWvS9-_e"
   },
   "outputs": [],
   "source": [
    "# load in the data\n",
    "# TODO: replace this with loading in finalized train-test split sets\n",
    "data = pd.read_pickle('post_eda.pkl')\n",
    "\n",
    "# TODO: delete this step later when the pickle is updated\n",
    "# to make this dataset all-numerical to use as input into models, drop: datetime, sales month, sales year, lat-long\n",
    "data = data.drop(['s_sale_date', 's_sale_month', 's_sale_year', 'v_latitude', 'v_longitude'], axis=1)"
   ]
  },
  {
   "cell_type": "code",
   "execution_count": null,
   "metadata": {
    "id": "pLihSo7d9-_f"
   },
   "outputs": [],
   "source": [
    "# Coop classes:\n",
    "coop = [16.0, 0.0, 4.0]\n",
    "\n",
    "# Cut off the top 1% of data\n",
    "data = data[data['s_sale_price'] < np.percentile(data['s_sale_price'],99)]\n",
    "data = data[data['s_sale_price'] > np.percentile(data['s_sale_price'],1)]\n",
    "data = data[data['s_building_class_at_sale'] != 16.0]\n",
    "data = data[data['s_building_class_at_sale'] != 0.0]\n",
    "data = data[data['s_building_class_at_sale'] != 4.0]\n",
    "data = data[data['s_total_units'] == 1]"
   ]
  },
  {
   "cell_type": "code",
   "execution_count": null,
   "metadata": {
    "id": "GG9puVsf9-_f"
   },
   "outputs": [],
   "source": [
    "features_top20 = ['d_bachelors_degree_pct', 'm_10yr_treasury_constant_maturity_rate',\n",
    "       'm_case_shiller_ny_home_price_index_%chg',\n",
    "       'm_unemployment_rate_%chg', 'm_inflation_rate_%chg',\n",
    "       's_total_units', 'm_sp500_index_%chg',\n",
    "       'm_real_gross_domestic_product_%chg',\n",
    "       'm_case_shiller_us_national_home_price_index_%chg',\n",
    "       's_building_class_at_sale', 'm_population_level', 's_zipcode',\n",
    "       'a_count', 'v_stories', 'v_nta', 'm_sp500_index',\n",
    "       'd_some_college_no_degree_pct', 's_year_built',\n",
    "       'imputed_land_area', 'v_fullval', 's_sale_price']\n",
    "\n",
    "features_top10 = ['m_population_level', 's_zipcode', 'a_count', 'v_stories', 'v_nta',\n",
    "       'm_sp500_index', 'd_some_college_no_degree_pct', 's_year_built',\n",
    "       'imputed_land_area', 'v_fullval', 's_sale_price']"
   ]
  },
  {
   "cell_type": "code",
   "execution_count": null,
   "metadata": {
    "id": "Oun_C2ww9-_f"
   },
   "outputs": [],
   "source": [
    "data = data[features_top20]\n",
    "scaler = StandardScaler()\n",
    "\n",
    "# split the data into X and Y\n",
    "X = data.drop('s_sale_price', axis=1)\n",
    "y = data['s_sale_price']\n",
    "X = scaler.fit_transform(X)\n",
    "\n",
    "# split the data into train and test sets\n",
    "X_train, X_test, y_train, y_test = train_test_split(X, y, test_size=0.2)"
   ]
  },
  {
   "cell_type": "markdown",
   "metadata": {
    "id": "HE-tJ7r59-_f"
   },
   "source": [
    "## Linear Regression:\n",
    "**Note that there are no hyperparameters to tune for simple Linear Regression**"
   ]
  },
  {
   "cell_type": "code",
   "execution_count": null,
   "metadata": {
    "id": "nCdQ6qJO9-_f",
    "outputId": "1110c1d8-a3b1-4dd8-ba7a-775daeb551c2"
   },
   "outputs": [
    {
     "data": {
      "text/plain": [
       "0.5268889502613232"
      ]
     },
     "execution_count": 6,
     "metadata": {
      "tags": []
     },
     "output_type": "execute_result"
    }
   ],
   "source": [
    "# Call linear regression and report score\n",
    "reg = LinearRegression()\n",
    "reg.fit(X_train, y_train)\n",
    "reg.score(X_test, y_test)"
   ]
  },
  {
   "cell_type": "markdown",
   "metadata": {
    "id": "0jYSRx1e9-_g"
   },
   "source": [
    "## Ridge Regression:\n",
    "**Hyperparameters: Regularization Strength (alpha)**"
   ]
  },
  {
   "cell_type": "code",
   "execution_count": null,
   "metadata": {
    "id": "LD5kAxYj9-_g",
    "outputId": "c7757eb4-3d44-4fc7-df6f-af2188f86f0a"
   },
   "outputs": [
    {
     "data": {
      "text/plain": [
       "0.5276243367479185"
      ]
     },
     "execution_count": 38,
     "metadata": {
      "tags": []
     },
     "output_type": "execute_result"
    }
   ],
   "source": [
    "# Ridge regression with default parameters\n",
    "ridge = Ridge()\n",
    "ridge.fit(X_train, y_train)\n",
    "ridge.score(X_test, y_test)"
   ]
  },
  {
   "cell_type": "code",
   "execution_count": null,
   "metadata": {
    "id": "rDEWyonz9-_g",
    "outputId": "d7b035fb-eca7-4337-ee63-8cff44825e35"
   },
   "outputs": [
    {
     "data": {
      "image/png": "[encoded data removed]",
      "text/plain": [
       "<Figure size 432x288 with 1 Axes>"
      ]
     },
     "metadata": {
      "needs_background": "light",
      "tags": []
     },
     "output_type": "display_data"
    }
   ],
   "source": [
    "# Ridge regression hyperparameter search\n",
    "ridge_alphas = np.linspace(0.001, 400, 20)\n",
    "\n",
    "ridge_alph = []\n",
    "ridge_scores = []\n",
    "for i in ridge_alphas:\n",
    "    ridge2 = Ridge(alpha = i)\n",
    "    ridge2.fit(X_train, y_train)\n",
    "    \n",
    "    ridge_alph.append(i)\n",
    "    ridge_scores.append(ridge2.score(X_test, y_test))\n",
    "    \n",
    "plt.plot(ridge_alph, ridge_scores)\n",
    "plt.xlabel('Regularization Strength')\n",
    "plt.ylabel('Score')\n",
    "plt.show()"
   ]
  },
  {
   "cell_type": "markdown",
   "metadata": {},
   "source": [
    "Some impressively smooth hyperparameter curves there!"
   ]
  },
  {
   "cell_type": "markdown",
   "metadata": {
    "id": "pt-PCuNS9-_g"
   },
   "source": [
    "## Lasso Regression:\n",
    "**Hyperparameters: L1 Multiplier (alpha)**"
   ]
  },
  {
   "cell_type": "code",
   "execution_count": null,
   "metadata": {
    "id": "xQiG52GQ9-_g",
    "outputId": "19d6eb59-8894-462a-e59c-084b460de8fe"
   },
   "outputs": [
    {
     "data": {
      "text/plain": [
       "0.5278802002662161"
      ]
     },
     "execution_count": 40,
     "metadata": {
      "tags": []
     },
     "output_type": "execute_result"
    }
   ],
   "source": [
    "# Lasso regression\n",
    "lasso = Lasso()\n",
    "lasso.fit(X_train, y_train)\n",
    "lasso.score(X_test, y_test)"
   ]
  },
  {
   "cell_type": "code",
   "execution_count": null,
   "metadata": {
    "id": "fM2B4gXD9-_g",
    "outputId": "44cc91ea-182d-4ad1-f4c0-a338fe894072"
   },
   "outputs": [
    {
     "data": {
      "image/png": "[encoded data removed]",
      "text/plain": [
       "<Figure size 432x288 with 1 Axes>"
      ]
     },
     "metadata": {
      "needs_background": "light",
      "tags": []
     },
     "output_type": "display_data"
    }
   ],
   "source": [
    "# Lasso regression hyperparameter search\n",
    "lasso_alphas = np.linspace(0.001, 100, 10)\n",
    "\n",
    "lasso_alph = []\n",
    "lasso_scores = []\n",
    "for i in lasso_alphas:\n",
    "    lasso2 = Lasso(alpha = i)\n",
    "    lasso2.fit(X_train, y_train)\n",
    "    \n",
    "    lasso_alph.append(i)\n",
    "    lasso_scores.append(lasso2.score(X_test, y_test))\n",
    "    \n",
    "plt.plot(lasso_alph, lasso_scores)\n",
    "plt.xlabel('L1 multiplier')\n",
    "plt.ylabel('Score')\n",
    "plt.show()"
   ]
  },
  {
   "cell_type": "markdown",
   "metadata": {
    "id": "q6ZGrpJ09-_h"
   },
   "source": [
    "## Lasso Regression:\n",
    "**Hyperparameters: Penalty Multiplier (alpha)**"
   ]
  },
  {
   "cell_type": "code",
   "execution_count": null,
   "metadata": {
    "id": "QL91axtJ9-_h",
    "outputId": "6971eed6-af29-4c2c-8729-202531ccf7a4"
   },
   "outputs": [
    {
     "data": {
      "text/plain": [
       "0.5052452914508999"
      ]
     },
     "execution_count": 42,
     "metadata": {
      "tags": []
     },
     "output_type": "execute_result"
    }
   ],
   "source": [
    "# Elastic Net regression\n",
    "elasticnet = ElasticNet()\n",
    "elasticnet.fit(X_train, y_train)\n",
    "elasticnet.score(X_test, y_test)"
   ]
  },
  {
   "cell_type": "code",
   "execution_count": null,
   "metadata": {
    "id": "PoTvFptb9-_h",
    "outputId": "455a3f6c-0821-4e99-d023-94c471e7a84b"
   },
   "outputs": [
    {
     "data": {
      "image/png": "[encoded data removed]",
      "text/plain": [
       "<Figure size 432x288 with 1 Axes>"
      ]
     },
     "metadata": {
      "needs_background": "light",
      "tags": []
     },
     "output_type": "display_data"
    }
   ],
   "source": [
    "# Elastic net regression hyperparameter search\n",
    "elastic_alphas = np.linspace(0.001, 400, 10)\n",
    "\n",
    "elastic_alph = []\n",
    "elastic_scores = []\n",
    "for i in elastic_alphas:\n",
    "    elastic2 = ElasticNet(alpha = i)\n",
    "    elastic2.fit(X_train, y_train)\n",
    "    \n",
    "    elastic_alph.append(i)\n",
    "    elastic_scores.append(elastic2.score(X_test, y_test))\n",
    "    \n",
    "plt.plot(elastic_alph, elastic_scores)\n",
    "plt.xlabel('Penalty multiplier')\n",
    "plt.ylabel('Score')\n",
    "plt.show()"
   ]
  },
  {
   "cell_type": "markdown",
   "metadata": {
    "id": "E31ZJYZB9-_h"
   },
   "source": [
    "## Miscellaneous\n",
    "**Decision tree default score because why not**"
   ]
  },
  {
   "cell_type": "code",
   "execution_count": null,
   "metadata": {
    "id": "wGSyYzE49-_h",
    "outputId": "6a2c8c1b-92bc-4af3-826d-8c4ecac48985"
   },
   "outputs": [
    {
     "data": {
      "text/plain": [
       "0.5696721941129932"
      ]
     },
     "execution_count": 44,
     "metadata": {
      "tags": []
     },
     "output_type": "execute_result"
    }
   ],
   "source": [
    "# Call Decision Tree Regressor and report score\n",
    "dtr2 = DecisionTreeRegressor()\n",
    "dtr2 = dtr2.fit(X_train, y_train)\n",
    "dtr2.score(X_test, y_test)"
   ]
  }
 ],
 "metadata": {
  "colab": {
   "name": "Linear Regression Models with Hyperparameter Searches.ipynb",
   "provenance": []
  },
  "kernelspec": {
   "display_name": "Python 3",
   "language": "python",
   "name": "python3"
  },
  "language_info": {
   "codemirror_mode": {
    "name": "ipython",
    "version": 3
   },
   "file_extension": ".py",
   "mimetype": "text/x-python",
   "name": "python",
   "nbconvert_exporter": "python",
   "pygments_lexer": "ipython3",
   "version": "3.8.5"
  }
 },
 "nbformat": 4,
 "nbformat_minor": 1
}
