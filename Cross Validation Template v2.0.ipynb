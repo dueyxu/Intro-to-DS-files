{
 "cells": [
  {
   "cell_type": "markdown",
   "metadata": {
    "id": "s6UY09EUqPIM"
   },
   "source": [
    "## Standardized Cross-Validation Procedure"
   ]
  },
  {
   "cell_type": "code",
   "execution_count": null,
   "metadata": {
    "id": "dBohg7JKqPIN"
   },
   "outputs": [],
   "source": [
    "# Standard packages\n",
    "import pandas as pd\n",
    "import numpy as np\n",
    "from sklearn.model_selection import KFold, train_test_split\n",
    "from sklearn.preprocessing import StandardScaler\n",
    "import matplotlib.pyplot as plt"
   ]
  },
  {
   "cell_type": "code",
   "execution_count": null,
   "metadata": {
    "id": "2cthmcAIqPIN"
   },
   "outputs": [],
   "source": [
    "# Import any model-specific packages you need\n",
    "from sklearn.linear_model import LinearRegression\n",
    "from sklearn.linear_model import Ridge\n",
    "from sklearn.linear_model import Lasso\n",
    "from sklearn.linear_model import ElasticNet"
   ]
  },
  {
   "cell_type": "markdown",
   "metadata": {
    "id": "bGOQKKL5qPIN"
   },
   "source": [
    "**A. Data ingestion, holdout split, and preparation**"
   ]
  },
  {
   "cell_type": "code",
   "execution_count": null,
   "metadata": {
    "id": "2rBlAeAcqPIN"
   },
   "outputs": [],
   "source": [
    "# Read in data\n",
    "data = pd.read_pickle('d_PCmd.pkl')\n",
    "\n",
    "# Create holdout set and label X and Y columns. RANDOM STATE is 5, don't change\n",
    "data_holdout = data.sample(frac = 0.2, random_state=5)\n",
    "X_holdout = data_holdout.drop('s_sale_price', axis=1)\n",
    "y_holdout = data_holdout['s_sale_price']\n",
    "\n",
    "# Remove holdout set from training data and label X and Y columns\n",
    "data_train = data.drop(test_holdout.index)\n",
    "X = data_train.drop('s_sale_price', axis=1)\n",
    "y = data_train['s_sale_price']\n",
    "\n",
    "# Scale features (important since we are doing regression)\n",
    "scaler = StandardScaler()\n",
    "X = pd.DataFrame(scaler.fit_transform(X))\n",
    "X_holdout = pd.DataFrame(scaler.fit_transform(X_holdout))"
   ]
  },
  {
   "cell_type": "markdown",
   "metadata": {
    "id": "AnbVMQRTqPIN"
   },
   "source": [
    "**B. Set KFolding parameters**"
   ]
  },
  {
   "cell_type": "code",
   "execution_count": null,
   "metadata": {
    "id": "SZU8Jd4sqPIN"
   },
   "outputs": [],
   "source": [
    "# Set KFolding parameters. Random state is set at 5 - please don't change\n",
    "kf = KFold(n_splits=7, shuffle=True, random_state=5)"
   ]
  },
  {
   "cell_type": "markdown",
   "metadata": {
    "id": "x_zEjdRUqPIN"
   },
   "source": [
    "## C. Skeleton code for Cross-validated model testing"
   ]
  },
  {
   "cell_type": "code",
   "execution_count": null,
   "metadata": {
    "id": "Odg_ddArqPIN"
   },
   "outputs": [],
   "source": [
    "# Results from each fold are stored here:\n",
    "fold_scores = []\n",
    "\n",
    "# Cross-validation code begins here\n",
    "for train_index, test_index in kf.split(X):\n",
    "    \n",
    "    # For each fold, define the X and y train and test sets\n",
    "    X_train, X_test = X.iloc[train_index], X.iloc[test_index]\n",
    "    y_train, y_test = y.iloc[train_index], y.iloc[test_index]\n",
    "    \n",
    "    # INPUT: INPUT MODEL ALGORITHM HERE-------------------------------\n",
    "    \n",
    "    \n",
    "    # INPUT: APPEND RESULTS FROM EACH FOLD TO fold_scores-------------\n",
    "    fold_scores.append()\n",
    "    \n",
    "# Calculate the average accuracy score across all folds\n",
    "cross_validated_score = np.mean(fold_scores)\n",
    "\n",
    "print('Cross-validated accuracy score: {}'.format(cross_validated_score))"
   ]
  },
  {
   "cell_type": "markdown",
   "metadata": {
    "id": "lCRDZ55yqPIO"
   },
   "source": [
    "## END OF TEMPLATE\n",
    "\n",
    "Below are examples. Delete if unneeded."
   ]
  },
  {
   "cell_type": "markdown",
   "metadata": {
    "id": "mcdU9fWgqPIO"
   },
   "source": [
    "## Example: Ridge Regression"
   ]
  },
  {
   "cell_type": "code",
   "execution_count": null,
   "metadata": {
    "id": "VIhaSTZoqPIO",
    "outputId": "eb4b0b60-c7ae-4c20-b0b6-eb86cba773ea"
   },
   "outputs": [
    {
     "name": "stdout",
     "output_type": "stream",
     "text": [
      "Cross-validated accuracy score: 0.5406483433074621\n"
     ]
    }
   ],
   "source": [
    "# Results from each fold are stored here:\n",
    "fold_scores = []\n",
    "\n",
    "# Cross-validation code begins here\n",
    "for train_index, test_index in kf.split(X):\n",
    "    \n",
    "    # For each fold, define the X and y train and test sets\n",
    "    X_train, X_test = X.iloc[train_index], X.iloc[test_index]\n",
    "    y_train, y_test = y.iloc[train_index], y.iloc[test_index]\n",
    "    \n",
    "    # REPLACE: WRITE MODEL ALGORITHM HERE\n",
    "    ridge = Ridge()\n",
    "    ridge.fit(X_train, y_train)\n",
    "        \n",
    "    # REPLACE: APPEND RESULTS FROM EACH FOLD TO fold_scores\n",
    "    fold_scores.append(ridge.score(X_test, y_test))\n",
    "    \n",
    "# Calculate the average accuracy score across all folds\n",
    "cross_validated_score = np.mean(fold_scores)\n",
    "\n",
    "print('Cross-validated accuracy score: {}'.format(cross_validated_score))"
   ]
  },
  {
   "cell_type": "markdown",
   "metadata": {
    "id": "H5ZISw6YqPIO"
   },
   "source": [
    "Seems sensible for a baseline. I'm going to re-do the cross-validation for ridge after searching for the best hyperparameter."
   ]
  },
  {
   "cell_type": "markdown",
   "metadata": {
    "id": "qkEn72XFqPIO"
   },
   "source": [
    "## Example: Ridge Regression hypermarameter search with Cross-validated accuracy"
   ]
  },
  {
   "cell_type": "code",
   "execution_count": null,
   "metadata": {
    "id": "uTXPY9TLqPIO",
    "outputId": "333f2ad6-1d08-4aec-c188-53070187f170",
    "scrolled": false
   },
   "outputs": [
    {
     "data": {
      "image/png": "[encoded data removed]",
      "text/plain": [
       "<Figure size 432x288 with 1 Axes>"
      ]
     },
     "metadata": {
      "needs_background": "light",
      "tags": []
     },
     "output_type": "display_data"
    },
    {
     "name": "stdout",
     "output_type": "stream",
     "text": [
      "0.540648412393798\n"
     ]
    }
   ],
   "source": [
    "# Define the range of hyperparameters to search:\n",
    "ridge_alphas = np.linspace(0.001, 20, 100)\n",
    "\n",
    "# Lists to store each hyperparameter and accuracy score:\n",
    "ridge_alph = []\n",
    "ridge_scores = []\n",
    "\n",
    "# For each Hyperparameter value:\n",
    "for i in ridge_alphas:\n",
    "    # Set the model with the hyperparameter\n",
    "    ridge = Ridge(alpha = i)\n",
    "    \n",
    "    # Results from each fold are stored here:\n",
    "    fold_scores = []\n",
    "\n",
    "    # Cross-validation code begins here\n",
    "    for train_index, test_index in kf.split(X):\n",
    "\n",
    "        # For each fold, define the X and y train and test sets\n",
    "        X_train, X_test = X.iloc[train_index], X.iloc[test_index]\n",
    "        y_train, y_test = y.iloc[train_index], y.iloc[test_index]\n",
    "\n",
    "        # REPLACE: WRITE MODEL ALGORITHM HERE\n",
    "        ridge.fit(X_train, y_train)\n",
    "\n",
    "        # REPLACE: APPEND RESULTS FROM EACH FOLD TO fold_scores\n",
    "        fold_scores.append(ridge.score(X_test, y_test))\n",
    "\n",
    "    # Store the hyperparameter and its score in the earlier lists:\n",
    "    ridge_alph.append(i)\n",
    "    ridge_scores.append(np.mean(fold_scores))\n",
    "\n",
    "# Display cross-validated hyperparameter search results\n",
    "plt.plot(ridge_alph, ridge_scores)\n",
    "plt.xlabel('Regularization Strength')\n",
    "plt.ylabel('Score')\n",
    "plt.show()\n",
    "\n",
    "print(max(ridge_scores))"
   ]
  },
  {
   "cell_type": "code",
   "execution_count": null,
   "metadata": {
    "id": "7cLqerHlI_Th"
   },
   "outputs": [],
   "source": []
  },
  {
   "cell_type": "markdown",
   "metadata": {
    "id": "NYOvKjQXqPIO"
   },
   "source": [
    "## Example: Simple Linear Regression"
   ]
  },
  {
   "cell_type": "code",
   "execution_count": null,
   "metadata": {
    "id": "vuco0GH8qPIO",
    "outputId": "84e96a01-fc9f-421f-bebe-c50ce7fc96a9"
   },
   "outputs": [
    {
     "name": "stdout",
     "output_type": "stream",
     "text": [
      "Cross-validated accuracy score: 0.5406477829077743\n"
     ]
    }
   ],
   "source": [
    "# Results from each fold are stored here:\n",
    "fold_scores = []\n",
    "\n",
    "# Cross-validation code begins here\n",
    "for train_index, test_index in kf.split(X):\n",
    "    \n",
    "    # For each fold, define the X and y train and test sets\n",
    "    X_train, X_test = X.iloc[train_index], X.iloc[test_index]\n",
    "    y_train, y_test = y.iloc[train_index], y.iloc[test_index]\n",
    "    \n",
    "    # REPLACE: WRITE MODEL ALGORITHM HERE\n",
    "    reg = LinearRegression()\n",
    "    reg.fit(X_train, y_train)\n",
    "        \n",
    "    # REPLACE: APPEND RESULTS FROM EACH FOLD TO fold_scores\n",
    "    fold_scores.append(reg.score(X_test, y_test))\n",
    "    \n",
    "# Calculate the average accuracy score across all folds\n",
    "cross_validated_score = np.mean(fold_scores)\n",
    "\n",
    "print('Cross-validated accuracy score: {}'.format(cross_validated_score))"
   ]
  }
 ],
 "metadata": {
  "colab": {
   "name": "Cross Validation Template v2.0.ipynb",
   "provenance": []
  },
  "kernelspec": {
   "display_name": "Python 3",
   "language": "python",
   "name": "python3"
  },
  "language_info": {
   "codemirror_mode": {
    "name": "ipython",
    "version": 3
   },
   "file_extension": ".py",
   "mimetype": "text/x-python",
   "name": "python",
   "nbconvert_exporter": "python",
   "pygments_lexer": "ipython3",
   "version": "3.8.5"
  }
 },
 "nbformat": 4,
 "nbformat_minor": 1
}
